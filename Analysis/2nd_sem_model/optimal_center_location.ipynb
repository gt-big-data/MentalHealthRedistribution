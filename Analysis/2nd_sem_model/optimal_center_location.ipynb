{
 "cells": [
  {
   "cell_type": "code",

   "execution_count": 1,

   "metadata": {},
   "outputs": [],
   "source": [
    "# add any other imports you need here!\n",
    "import numpy as np\n",
    "import pandas as pd\n",
    "import seaborn as sns\n",
    "import matplotlib.pyplot as plt\n",
    "from math import radians, cos, sin, asin, sqrt, exp"
   ]
  },
  {
   "cell_type": "code",
   "execution_count": 2,
   "metadata": {},
   "outputs": [],
   "source": [
    "# use this to compute distance, not Euclidean Distance!\n",
    "def haversine(lat1, lon1, lat2, lon2):\n",
    "\n",
    "      R = 3959.87433 # this is in miles.  For Earth radius in kilometers use 6372.8 km\n",
    "\n",
    "      dLat = radians(lat2 - lat1)\n",
    "      dLon = radians(lon2 - lon1)\n",
    "      lat1 = radians(lat1)\n",
    "      lat2 = radians(lat2)\n",
    "\n",
    "      a = sin(dLat/2)**2 + cos(lat1)*cos(lat2)*sin(dLon/2)**2\n",
    "      c = 2*asin(sqrt(a))\n",
    "\n",
    "      return R * c"
   ]
  },
  {
   "cell_type": "code",
   "execution_count": 3,
   "metadata": {},
   "outputs": [],
   "source": [
    "def logistic(x):\n",
    "  return 1 / (1 + exp(-4*x))"
   ]
  },
  {
   "cell_type": "markdown",
   "metadata": {},
   "source": [
    "# Optimal Center Formula\n",
    "- parameters:\n",
    "\n",
    "    1. `county_lat`: a double containing the latidude of the county's population center\n",
    "    2. `county_long`: a double containing the longitude of the county's population center\n",
    "    3. `potential_center_lat`: a double containing the latidude of the potential center\n",
    "    4. `potential_center_long`: a double containing the longitude of the county's potential center\n",
    "    5. `county_classification`: an int from 0-8 representing how much mental health need is required (8 = high need, 1 = low need)\n",
    "\n",
    "- return: should return a double representing a score of how optimal this center is\n",
    "- Your formula should weight distance more heavily (maybe exponentially), and weight the need more linearly\n",
    "- Also, make sure to normalize your value from [0,1] after applying your formula!\n",
    "    - 1 = very optimal center\n",
    "    - 0 = not optimal center"
   ]
  },
  {
   "cell_type": "code",
   "execution_count": 4,
   "metadata": {},
   "outputs": [],
   "source": [
    "def optimal_center_formula(county_lat, county_long, potential_center_lat, potential_center_long, county_classification):\n",
    "    distance = haversine(county_lat, county_long, potential_center_lat, potential_center_long)\n",
    "    \n",
    "    # perform some mathematical operation with this calculated distance and the county classification!\n",
    "    LARGEST_DISTANCE = 3000 # rough distance accross the US\n",
    "    '''\n",
    "    Formula Choices:\n",
    "    1. We use a modified logistic function map distances between geographic county population means and potential centers to \n",
    "    values between 0 and 1. This allows there to be a sharp (almost linear) decrease as the distance initially increases from 0 (to\n",
    "    capture individual's driving to the potential center). At around a distance of 500 miles, the mapped value begins to tend to\n",
    "    0 asymptotically. This matches the expected behavior that, for distances between a potential center a geographic county \n",
    "    population center that are sufficiently large, the center will not have any benefit for residents of that specific county.\n",
    "    Note that we divide the initialize distance by a constant representing the largest possible distance between any two \n",
    "    points in the US to balance the logistic function. We also, perform some mathematic manipulations on the logistic function\n",
    "    to first invert the function and then stretch it vertically in order to successfully map to [0,1].\n",
    "    \n",
    "    2. We choose to normalize the need argument by dividing by 8. Additionally, we take the square root of the this normalized\n",
    "    value. This is done to weight the need metric more heavily than distance.\n",
    "    '''\n",
    "    MAX_CLASSIFICATION = 8\n",
    "    distance_score = 2 * (1 - logistic(distance / (LARGEST_DISTANCE))) # multiply by 2 to get a normalized value between 0 and 1\n",
    "    need_score = ((county_classification) / MAX_CLASSIFICATION) ** (1 / 2)\n",
    "    \n",
    "    score = distance_score * need_score\n",
    "    return score"
   ]
  },
  {
   "cell_type": "markdown",
   "metadata": {},
   "source": [
    "## Use this Method for Testing!"
   ]
  },
  {
   "cell_type": "code",
   "execution_count": 5,
   "metadata": {},
   "outputs": [],
   "source": [
    "def test_optimal_center_formula():\n",
    "    # testcase 1: should return a high value, since coordinates are close and need is high\n",
    "    montgomery_lat = 39.746151\n",
    "    montgomery_long = -084.207549\n",
    "    xenia_center_lat = 39.686560\n",
    "    xenia_center_long = -83.924960\n",
    "    montgomery_classification = 8\n",
    "    print(\"Testcase 1 (should return a value close to 1): \", optimal_center_formula(montgomery_lat, montgomery_long, xenia_center_lat, xenia_center_long, montgomery_classification))\n",
    "    \n",
    "    # testcase 2: should return a low value, since coordinates are far and need is low\n",
    "    orange_county_lat = 33.733953\n",
    "    orange_county_long = -117.862880\n",
    "    fayetsville_center_lat = 35.148310\n",
    "    fayetsville_center_long = -86.579200\n",
    "    orange_county_classification = 0\n",
    "    print(\"Testcase 2 (should return a value close to 0): \", optimal_center_formula(orange_county_lat, orange_county_long, fayetsville_center_lat, fayetsville_center_long, orange_county_classification))\n",
    "    \n",
    "    # testcase 3: should return a moderate-low value, since coordinates are far even though need is high\n",
    "    toelle_county_lat = 40.560780\n",
    "    toelle_county_long = -112.379217\n",
    "    fayetsville_center_lat = 35.148310\n",
    "    fayetsville_center_long = -86.579200\n",
    "    toelle_county_classification = 8\n",
    "    print(\"Testcase 3 (should return a lower value (~0.1-0.3)): \", optimal_center_formula(toelle_county_lat, toelle_county_long, fayetsville_center_lat, fayetsville_center_long, toelle_county_classification))\n",
    "    \n",
    "    # testcase 4: should return a moderate-high value, since coordinates are close and need is moderate\n",
    "    williamson_tx_lat = 30.554707\n",
    "    williamson_tx_long = -97.711430\n",
    "    round_rock_center_lat = 30.533330\n",
    "    round_rock_center_long = -97.694740\n",
    "    williamson_classification = 4\n",
    "    print(\"Testcase 4 (should return moderate value (~0.5-0.9)): \", optimal_center_formula(williamson_tx_lat, williamson_tx_long, round_rock_center_lat, round_rock_center_long, williamson_classification))"
   ]
  },
  {
   "cell_type": "code",
   "execution_count": 7,
   "metadata": {},
   "outputs": [
    {
     "name": "stdout",
     "output_type": "stream",
     "text": [
      "Testcase 1 (should return a value close to 1):  0.9896153641712377\n",
      "Testcase 2 (should return a value close to 0):  0.0\n",
      "Testcase 3 (should return a lower value (~0.1-0.3)):  0.2524899797517759\n",
      "Testcase 4 (should return moderate value (~0.5-0.9)):  0.7062675100039082\n"
     ]
    }
   ],
   "source": [
    "test_optimal_center_formula()"
   ]
  },
  {
   "cell_type": "code",
   "execution_count": null,
   "metadata": {},
   "outputs": [],
   "source": []
  }
 ],
 "metadata": {
  "kernelspec": {
   "display_name": "Python 3",
   "language": "python",
   "name": "python3"
  },
  "language_info": {
   "codemirror_mode": {
    "name": "ipython",
    "version": 3
   },
   "file_extension": ".py",
   "mimetype": "text/x-python",
   "name": "python",
   "nbconvert_exporter": "python",
   "pygments_lexer": "ipython3",
   "version": "3.7.4"
  }
 },
 "nbformat": 4,
 "nbformat_minor": 2
}
